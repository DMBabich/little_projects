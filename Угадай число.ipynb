{
 "cells": [
  {
   "cell_type": "code",
   "execution_count": 15,
   "metadata": {},
   "outputs": [
    {
     "name": "stdout",
     "output_type": "stream",
     "text": [
      "\n",
      "Введите ваше число\n",
      "101\n",
      "\n",
      "Pагаданное число меньше\n",
      "\n",
      "Введите ваше число\n",
      "99\n",
      "\n",
      "Загаданное число больше\n",
      "\n",
      "Введите ваше число\n",
      "100\n",
      "\n",
      "Вы угадали!\n",
      "\n",
      "Загаданное число было:\t 100\n",
      "Еще разок?\n",
      "да\n",
      "\n",
      "Введите ваше число\n",
      "100\n",
      "\n",
      "Загаданное число больше\n",
      "\n",
      "Введите ваше число\n",
      "101\n",
      "\n",
      "Вы угадали!\n",
      "\n",
      "Загаданное число было:\t 101\n",
      "Еще разок?\n",
      "да\n",
      "\n",
      "Введите ваше число\n",
      "100\n",
      "\n",
      "Вы угадали!\n",
      "\n",
      "Загаданное число было:\t 100\n",
      "Еще разок?\n",
      "да\n",
      "\n",
      "Введите ваше число\n",
      "100\n",
      "\n",
      "Загаданное число больше\n",
      "\n",
      "Введите ваше число\n",
      "101\n",
      "\n",
      "Вы угадали!\n",
      "\n",
      "Загаданное число было:\t 101\n",
      "Еще разок?\n",
      "\n",
      "Было приятно поиграть!)\n"
     ]
    }
   ],
   "source": [
    "import random\n",
    "\n",
    "\n",
    "def play():\n",
    "    num = random.randint(0,100)\n",
    "    while True:\n",
    "        print('\\nВведите ваше число')\n",
    "        my_num = int(input())\n",
    "        if num > my_num:\n",
    "            print('\\nЗагаданное число больше')\n",
    "        elif num < my_num:\n",
    "            print('\\nЗагаданное число меньше')\n",
    "        else:\n",
    "            print('\\nВы угадали!')\n",
    "            print('\\nЗагаданное число было:\\t', num)\n",
    "            break\n",
    "            \n",
    "play()\n",
    "\n",
    "while True:\n",
    "    print('Еще разок?')\n",
    "    word = input().lower() \n",
    "    if word == 'да' or word == 'yes':\n",
    "        play()\n",
    "    else:\n",
    "        print('Было приятно поиграть!)')\n",
    "        break\n"
   ]
  },
  {
   "cell_type": "code",
   "execution_count": null,
   "metadata": {},
   "outputs": [],
   "source": [
    "\n"
   ]
  },
  {
   "cell_type": "code",
   "execution_count": 9,
   "metadata": {},
   "outputs": [
    {
     "ename": "ImportError",
     "evalue": "libX11.so.6: cannot open shared object file: No such file or directory",
     "output_type": "error",
     "traceback": [
      "\u001b[0;31m---------------------------------------------------------------------------\u001b[0m",
      "\u001b[0;31mImportError\u001b[0m                               Traceback (most recent call last)",
      "\u001b[0;32m<ipython-input-9-ab23d5c8f022>\u001b[0m in \u001b[0;36m<module>\u001b[0;34m\u001b[0m\n\u001b[0;32m----> 1\u001b[0;31m \u001b[0;32mimport\u001b[0m \u001b[0mturtle\u001b[0m\u001b[0;34m\u001b[0m\u001b[0;34m\u001b[0m\u001b[0m\n\u001b[0m",
      "\u001b[0;32m/snap/jupyter/6/lib/python3.7/turtle.py\u001b[0m in \u001b[0;36m<module>\u001b[0;34m\u001b[0m\n\u001b[1;32m    105\u001b[0m \u001b[0;31m# print(_ver)\u001b[0m\u001b[0;34m\u001b[0m\u001b[0;34m\u001b[0m\u001b[0;34m\u001b[0m\u001b[0m\n\u001b[1;32m    106\u001b[0m \u001b[0;34m\u001b[0m\u001b[0m\n\u001b[0;32m--> 107\u001b[0;31m \u001b[0;32mimport\u001b[0m \u001b[0mtkinter\u001b[0m \u001b[0;32mas\u001b[0m \u001b[0mTK\u001b[0m\u001b[0;34m\u001b[0m\u001b[0;34m\u001b[0m\u001b[0m\n\u001b[0m\u001b[1;32m    108\u001b[0m \u001b[0;32mimport\u001b[0m \u001b[0mtypes\u001b[0m\u001b[0;34m\u001b[0m\u001b[0;34m\u001b[0m\u001b[0m\n\u001b[1;32m    109\u001b[0m \u001b[0;32mimport\u001b[0m \u001b[0mmath\u001b[0m\u001b[0;34m\u001b[0m\u001b[0;34m\u001b[0m\u001b[0m\n",
      "\u001b[0;32m/snap/jupyter/6/lib/python3.7/tkinter/__init__.py\u001b[0m in \u001b[0;36m<module>\u001b[0;34m\u001b[0m\n\u001b[1;32m     34\u001b[0m \u001b[0;32mimport\u001b[0m \u001b[0msys\u001b[0m\u001b[0;34m\u001b[0m\u001b[0;34m\u001b[0m\u001b[0m\n\u001b[1;32m     35\u001b[0m \u001b[0;34m\u001b[0m\u001b[0m\n\u001b[0;32m---> 36\u001b[0;31m \u001b[0;32mimport\u001b[0m \u001b[0m_tkinter\u001b[0m \u001b[0;31m# If this fails your Python may not be configured for Tk\u001b[0m\u001b[0;34m\u001b[0m\u001b[0;34m\u001b[0m\u001b[0m\n\u001b[0m\u001b[1;32m     37\u001b[0m \u001b[0mTclError\u001b[0m \u001b[0;34m=\u001b[0m \u001b[0m_tkinter\u001b[0m\u001b[0;34m.\u001b[0m\u001b[0mTclError\u001b[0m\u001b[0;34m\u001b[0m\u001b[0;34m\u001b[0m\u001b[0m\n\u001b[1;32m     38\u001b[0m \u001b[0;32mfrom\u001b[0m \u001b[0mtkinter\u001b[0m\u001b[0;34m.\u001b[0m\u001b[0mconstants\u001b[0m \u001b[0;32mimport\u001b[0m \u001b[0;34m*\u001b[0m\u001b[0;34m\u001b[0m\u001b[0;34m\u001b[0m\u001b[0m\n",
      "\u001b[0;31mImportError\u001b[0m: libX11.so.6: cannot open shared object file: No such file or directory"
     ]
    }
   ],
   "source": []
  },
  {
   "cell_type": "code",
   "execution_count": null,
   "metadata": {},
   "outputs": [],
   "source": []
  }
 ],
 "metadata": {
  "kernelspec": {
   "display_name": "Python 3",
   "language": "python",
   "name": "python3"
  },
  "language_info": {
   "codemirror_mode": {
    "name": "ipython",
    "version": 3
   },
   "file_extension": ".py",
   "mimetype": "text/x-python",
   "name": "python",
   "nbconvert_exporter": "python",
   "pygments_lexer": "ipython3",
   "version": "3.7.3"
  }
 },
 "nbformat": 4,
 "nbformat_minor": 2
}
