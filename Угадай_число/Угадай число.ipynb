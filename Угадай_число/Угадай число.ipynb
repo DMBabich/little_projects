{
 "cells": [
  {
   "cell_type": "code",
   "execution_count": null,
   "metadata": {},
   "outputs": [],
   "source": [
    "import random\n",
    "\n",
    "\n",
    "def play():\n",
    "    num = random.randint(0,100)\n",
    "    while True:\n",
    "        print('\\nВведите ваше число')\n",
    "        my_num = int(input())\n",
    "        if num > my_num:\n",
    "            print('\\nЗагаданное число больше')\n",
    "        elif num < my_num:\n",
    "            print('\\nЗагаданное число меньше')\n",
    "        else:\n",
    "            print('\\nВы угадали!')\n",
    "            print('\\nЗагаданное число было:\\t', num)\n",
    "            break\n",
    "            \n",
    "play()\n",
    "\n",
    "while True:\n",
    "    print('Еще разок?')\n",
    "    word = input().lower() \n",
    "    if word == 'да' or word == 'yes':\n",
    "        play()\n",
    "    else:\n",
    "        print('Было приятно поиграть!)')\n",
    "        break\n"
   ]
  }
 ],
 "metadata": {
  "kernelspec": {
   "display_name": "Python 3",
   "language": "python",
   "name": "python3"
  },
  "language_info": {
   "codemirror_mode": {
    "name": "ipython",
    "version": 3
   },
   "file_extension": ".py",
   "mimetype": "text/x-python",
   "name": "python",
   "nbconvert_exporter": "python",
   "pygments_lexer": "ipython3",
   "version": "3.7.3"
  }
 },
 "nbformat": 4,
 "nbformat_minor": 2
}
